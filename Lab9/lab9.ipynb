{
 "cells": [
  {
   "cell_type": "markdown",
   "metadata": {},
   "source": [
    "Copyright **`(c)`** 2023 Giovanni Squillero `<giovanni.squillero@polito.it>`  \n",
    "[`https://github.com/squillero/computational-intelligence`](https://github.com/squillero/computational-intelligence)  \n",
    "Free for personal or classroom use; see [`LICENSE.md`](https://github.com/squillero/computational-intelligence/blob/master/LICENSE.md) for details.  "
   ]
  },
  {
   "cell_type": "markdown",
   "metadata": {},
   "source": [
    "# LAB9\n",
    "\n",
    "Write a local-search algorithm (eg. an EA) able to solve the *Problem* instances 1, 2, 5, and 10 on a 1000-loci genomes, using a minimum number of fitness calls. That's all.\n",
    "\n",
    "### Deadlines:\n",
    "\n",
    "* Submission: Sunday, December 3 ([CET](https://www.timeanddate.com/time/zones/cet))\n",
    "* Reviews: Sunday, December 10 ([CET](https://www.timeanddate.com/time/zones/cet))\n",
    "\n",
    "Notes:\n",
    "\n",
    "* Reviews will be assigned  on Monday, December 4\n",
    "* You need to commit in order to be selected as a reviewer (ie. better to commit an empty work than not to commit)"
   ]
  },
  {
   "cell_type": "markdown",
   "metadata": {},
   "source": [
    "We want to maximize the fitness returned but minimize the number of calls.\n",
    "\n",
    "First we will choose the genomes for reproduction (elitism, only pick the best)"
   ]
  },
  {
   "cell_type": "markdown",
   "metadata": {},
   "source": [
    "Now we combine the genomes to create offsprings with crossovers (will have to tune the crossover rate)"
   ]
  },
  {
   "cell_type": "markdown",
   "metadata": {},
   "source": [
    "We can also try to randomly flip some bits in the genomes (will have to tune mutation rate)"
   ]
  },
  {
   "cell_type": "markdown",
   "metadata": {},
   "source": [
    "Evaluate the new offsprings only if it makes sense (i.e. if a genome was already evaluated we do not evaluate it)"
   ]
  },
  {
   "cell_type": "markdown",
   "metadata": {},
   "source": [
    "And finally replace the worst performing with the new offsprings. Remember we want to minimze number of calls"
   ]
  },
  {
   "cell_type": "code",
   "execution_count": 23,
   "metadata": {},
   "outputs": [],
   "source": [
    "from random import choices\n",
    "from random import random\n",
    "from random import randint\n",
    "from random import sample\n",
    "import lab9_lib"
   ]
  },
  {
   "cell_type": "code",
   "execution_count": 24,
   "metadata": {},
   "outputs": [],
   "source": [
    "fitness = None\n",
    "def create_problem(x):\n",
    "    global fitness\n",
    "    if fitness is not None:\n",
    "        fitness = None  # dont know if this is needed but whatever\n",
    "    fitness = lab9_lib.make_problem(x)  # create the problem instance\n"
   ]
  },
  {
   "cell_type": "code",
   "execution_count": 25,
   "metadata": {},
   "outputs": [],
   "source": [
    "# 1st method to call to create the population\n",
    "def create_population(size=10, genome_length=1000):\n",
    "    '''List (of size=size) of 0 and 1 each of lenght = genome_lenght'''\n",
    "    return [choices([0, 1], k=genome_length) for _ in range(size)]"
   ]
  },
  {
   "cell_type": "code",
   "execution_count": 26,
   "metadata": {},
   "outputs": [],
   "source": [
    "already_evaluated_genomes = {}  # needed to check if the genome was already evaluated\n",
    "\n",
    "# used to evaluate the current population\n",
    "def evaluate_population(population: list):\n",
    "    '''Returns a dictionary with the individual fitness of each genome'''\n",
    "    # might modify this to return a list instead\n",
    "    pop_fitness = {}\n",
    "    global calls_saved\n",
    "    for individual in population:\n",
    "        individual = tuple(individual)  # convert to a tuple to be used as a key\n",
    "        if already_evaluated_genomes.get(individual) is not None:   # if the individual was already tested\n",
    "            pop_fitness[individual] = already_evaluated_genomes.get(individual)\n",
    "            # prints the genome in string form and the fitness of said genome\n",
    "            # print(f\"{''.join(str(g) for g in individual)}: {already_evaluated_genomes.get(individual):.2%}\")\n",
    "            calls_saved += 1\n",
    "        else:\n",
    "            # fitness(ind) calls the __call__ function and passes genome\n",
    "            ind_fit = fitness(individual)\n",
    "            pop_fitness[individual] = ind_fit\n",
    "            already_evaluated_genomes[individual] = ind_fit\n",
    "            # prints the genome in string form and the fitness of said genome\n",
    "            # print(f\"{''.join(str(g) for g in individual)}: {ind_fit:.2%}\")\n",
    "    return pop_fitness  # returns a dictionary"
   ]
  },
  {
   "cell_type": "code",
   "execution_count": 27,
   "metadata": {},
   "outputs": [],
   "source": [
    "# select the best genomes to mutate/crossover\n",
    "def select_best_genomes(population: dict, size=4, pick_worse_prob = 0.25) -> dict:\n",
    "    '''Receives as input a dictionary population, of which we only want to keep the most promising\n",
    "    With a certain probability it can also pick random genomes instead.\n",
    "    '''\n",
    "    if len(population) >= 5:\n",
    "        if random() < pick_worse_prob:  \n",
    "            # literally just pick 4 random things\n",
    "            # print(\"For this run, random genomes will be picked!\")\n",
    "            random_keys = sample(list(population.keys()), size)\n",
    "            return {key : population[key] for key in random_keys}\n",
    "        else: \n",
    "            # sort the dictionary based on the fitness, then pick the 4 most promising genomes\n",
    "            # sorted returns a  list of tuples, so this one has to be kept under control because i am not sure lol\n",
    "            # TODO CHECK HERE\n",
    "            return dict(sorted(population.items(), key=lambda x: x[1], reverse=True)[:size])\n",
    "    else:  \n",
    "        # not worth selecting the best genomes yet\n",
    "        return population"
   ]
  },
  {
   "cell_type": "code",
   "execution_count": 28,
   "metadata": {},
   "outputs": [],
   "source": [
    "# method to call to print the population or to print the population + fitness after their evaluation\n",
    "# ideally you will always call this after evaluatin the population btw\n",
    "def print_population(population: list):\n",
    "    if isinstance(population, dict):\n",
    "        # handle dictionary logic\n",
    "        for individual, fit in population.items():\n",
    "            print(f\"{''.join(str(g) for g in individual)}: {fit:.2%}\")\n",
    "    elif isinstance(population, list):\n",
    "        for individual in population:\n",
    "            print(f\"{''.join(str(g) for g in individual)}\")\n",
    "    else:\n",
    "        raise TypeError(\"Population must be a list or a dictionary\")"
   ]
  },
  {
   "cell_type": "code",
   "execution_count": 29,
   "metadata": {},
   "outputs": [],
   "source": [
    "def mutate(population: dict, mutation_rate=0.1) -> dict: \n",
    "    '''\n",
    "    Each bit of each genome has a mutation_rate probability of switching\n",
    "    returns a new dictionary after mutating the bits, see evaluate_population\n",
    "    '''\n",
    "    mutated_population = [] # population yet to be evaluated\n",
    "    for individual, _ in population.items():\n",
    "        # switch the bits if it's less than mutation_rate\n",
    "        new_genome = (bit if random() > mutation_rate else 1 - bit for bit in individual)\n",
    "        mutated_population.append(new_genome)\n",
    "    \n",
    "    return evaluate_population(mutated_population)"
   ]
  },
  {
   "cell_type": "code",
   "execution_count": 30,
   "metadata": {},
   "outputs": [],
   "source": [
    "def crossover(population: dict) -> dict:\n",
    "    '''\n",
    "    Create new offsprings by splitting two parents from a random bit.\n",
    "    Notice that this method doubles the population so a new call to select_best_population might be good\n",
    "    '''\n",
    "    new_population = []\n",
    "    old_population = list(population.keys())\n",
    "    for i in range(0, len(old_population), 2):\n",
    "        genitore1 = old_population[i]\n",
    "        # next one in the population if possible otherwise the first element will be genitore2\n",
    "        genitore2 = old_population[i+1] if i+1 < len(old_population) else population[0]\n",
    "        # randint includes the extremes but in this case we do not want the, so we go from 1 to -1\n",
    "        crossover_point = randint(1, len(genitore1)-1)\n",
    "        # the end point is not included, starting point is included\n",
    "        offspring1 = genitore1[:crossover_point] + genitore2[crossover_point:]\n",
    "        offspring2 = genitore2[:crossover_point] + genitore1[crossover_point:]\n",
    "        new_population.append(offspring1)\n",
    "        new_population.append(offspring2)\n",
    "    return evaluate_population(new_population)"
   ]
  },
  {
   "cell_type": "code",
   "execution_count": 31,
   "metadata": {},
   "outputs": [],
   "source": [
    "def run_genetic_algo(x, population_size=50, genome_length=1000, mutation_rate=0.05, desired_fitness = 50.00, max_stagnant_generations=100, convergence_threshold=0.01):\n",
    "    best_genome = None\n",
    "    best_fitness = float('-inf')\n",
    "    last_best_fitness = float('-inf')\n",
    "    generations = 0\n",
    "    stagnant_generations = 0\n",
    "    \n",
    "    create_problem(x)    # create the problem instance\n",
    "    population = create_population(population_size, genome_length)  # create the population\n",
    "    #print_population(population)\n",
    "    \n",
    "    while best_fitness <= desired_fitness and stagnant_generations < max_stagnant_generations:  # until we reach a certain fitness\n",
    "        fitnesses = evaluate_population(population)   # evaluate the current genomes\n",
    "        #print_population(fitnesses)\n",
    "        best_genomes = select_best_genomes(fitnesses)  # select the best genomes (or randomly pick them)\n",
    "        #print_population(best_genomes)\n",
    "        \n",
    "        # they say you want to crossover first and then mutate\n",
    "        crossed_genomes = crossover(best_genomes)\n",
    "        mutated_genomes = mutate(crossed_genomes, mutation_rate)\n",
    "        # print_population(mutated_genomes)\n",
    "        \n",
    "        current_best_genome, current_best_fitness = max(mutated_genomes.items(), key = lambda x : x[1])\n",
    "        # print(best_genome, best_fitness)\n",
    "        if current_best_fitness > best_fitness:\n",
    "            best_fitness = current_best_fitness\n",
    "            best_genome = current_best_genome\n",
    "            stagnant_generations = 0\n",
    "        else:   # implement a check to see how many generations the fitness did not improve at all\n",
    "            stagnant_generations += 1\n",
    "            \n",
    "        # implement a check to see if the fitness is barely improving\n",
    "        fitness_improvement = best_fitness - last_best_fitness\n",
    "        if fitness_improvement < convergence_threshold:\n",
    "            stagnant_generations += 1\n",
    "            \n",
    "        generations += 1\n",
    "        \n",
    "        if fitness.calls % 200000 == 0: \n",
    "            print(fitness.calls, best_fitness)\n",
    "            \n",
    "    return best_genome, best_fitness, fitness.calls, generations"
   ]
  },
  {
   "cell_type": "code",
   "execution_count": 32,
   "metadata": {},
   "outputs": [],
   "source": [
    "mutation_rate = 0.01  # prob of each bit switching\n",
    "calls_saved = 0  # just used to check if we save any calls\n",
    "population_size = 50\n",
    "desired_fitness = 0.9\n",
    "x = [1, 2, 5, 10]\n",
    "genome_length = 1000\n",
    "max_stagnant_generations = 500\n",
    "convergence_threshold = 0.01"
   ]
  },
  {
   "cell_type": "code",
   "execution_count": 33,
   "metadata": {},
   "outputs": [
    {
     "name": "stdout",
     "output_type": "stream",
     "text": [
      "(0, 1, 0, 1, 1, 0, 1, 0, 0, 0, 0, 1, 0, 0, 0, 1, 1, 1, 0, 0, 0, 0, 1, 0, 1, 0, 1, 0, 1, 1, 0, 1, 0, 1, 1, 1, 0, 1, 1, 0, 1, 0, 0, 1, 0, 0, 0, 0, 0, 1, 0, 0, 1, 0, 0, 1, 1, 0, 1, 0, 1, 1, 0, 1, 1, 1, 0, 1, 0, 1, 1, 1, 0, 0, 0, 1, 1, 1, 1, 1, 1, 0, 0, 0, 0, 1, 0, 1, 0, 0, 0, 0, 1, 1, 0, 0, 0, 0, 1, 1, 0, 0, 1, 1, 0, 1, 1, 1, 0, 0, 0, 1, 0, 0, 0, 1, 1, 0, 0, 0, 0, 1, 1, 1, 1, 1, 0, 1, 0, 0, 1, 0, 0, 1, 0, 0, 0, 0, 0, 0, 1, 0, 0, 1, 0, 1, 1, 1, 1, 1, 0, 1, 0, 1, 1, 0, 1, 1, 0, 1, 1, 1, 0, 0, 1, 0, 0, 1, 0, 0, 0, 0, 0, 1, 1, 1, 1, 1, 0, 1, 0, 1, 0, 1, 0, 0, 1, 0, 0, 1, 1, 0, 1, 1, 1, 0, 0, 1, 1, 0, 0, 1, 1, 1, 0, 0, 1, 0, 1, 0, 0, 1, 0, 1, 1, 1, 1, 0, 0, 1, 0, 1, 1, 1, 0, 0, 0, 1, 0, 0, 0, 0, 0, 0, 0, 0, 0, 0, 1, 0, 0, 0, 1, 1, 1, 1, 0, 1, 1, 1, 0, 0, 0, 1, 0, 0, 1, 0, 1, 1, 0, 0, 1, 0, 1, 1, 0, 1, 0, 1, 1, 0, 1, 1, 1, 0, 0, 1, 1, 1, 0, 0, 1, 1, 1, 0, 1, 0, 1, 1, 0, 1, 1, 0, 0, 0, 1, 1, 1, 0, 1, 0, 0, 0, 1, 0, 1, 1, 1, 1, 0, 1, 0, 1, 0, 0, 1, 0, 1, 1, 1, 1, 0, 0, 0, 1, 1, 0, 1, 1, 0, 1, 1, 0, 1, 0, 1, 1, 1, 1, 1, 1, 1, 0, 1, 1, 0, 1, 1, 1, 0, 0, 0, 0, 1, 0, 0, 0, 0, 1, 1, 0, 1, 0, 1, 0, 0, 0, 0, 1, 0, 0, 0, 1, 1, 1, 1, 1, 1, 1, 1, 1, 1, 1, 0, 0, 0, 0, 1, 1, 1, 0, 0, 1, 1, 0, 1, 1, 0, 0, 1, 1, 0, 0, 0, 0, 1, 1, 0, 0, 0, 1, 1, 0, 0, 0, 0, 0, 0, 0, 0, 0, 1, 1, 1, 0, 0, 1, 1, 0, 0, 0, 0, 0, 0, 0, 1, 1, 0, 0, 1, 0, 0, 1, 1, 1, 1, 1, 0, 0, 1, 1, 0, 0, 0, 1, 0, 1, 0, 1, 0, 0, 1, 0, 0, 0, 1, 1, 1, 0, 1, 1, 1, 0, 0, 0, 1, 0, 0, 1, 1, 1, 0, 0, 0, 1, 1, 1, 0, 0, 0, 1, 1, 1, 0, 0, 1, 0, 1, 0, 0, 1, 1, 0, 1, 0, 0, 0, 0, 0, 1, 1, 0, 0, 1, 0, 0, 0, 0, 1, 0, 0, 1, 1, 0, 0, 1, 1, 1, 0, 1, 1, 1, 1, 1, 0, 0, 0, 0, 1, 1, 1, 0, 1, 0, 1, 1, 1, 0, 1, 1, 1, 1, 1, 1, 1, 1, 1, 0, 0, 0, 1, 1, 1, 1, 1, 0, 1, 0, 1, 0, 0, 0, 0, 1, 0, 1, 0, 1, 0, 0, 1, 1, 0, 1, 1, 1, 1, 1, 0, 0, 1, 0, 0, 0, 1, 1, 1, 0, 1, 1, 1, 1, 1, 0, 1, 0, 1, 1, 1, 0, 0, 0, 1, 1, 1, 1, 1, 1, 1, 1, 0, 1, 1, 0, 0, 0, 1, 1, 0, 0, 1, 0, 1, 1, 1, 1, 1, 0, 0, 1, 0, 1, 1, 1, 0, 1, 1, 1, 0, 1, 1, 1, 0, 1, 1, 0, 1, 1, 0, 1, 1, 0, 1, 0, 1, 0, 1, 1, 1, 0, 1, 1, 1, 0, 0, 0, 1, 1, 0, 0, 0, 1, 0, 0, 1, 0, 1, 1, 1, 0, 0, 1, 1, 1, 1, 0, 0, 1, 0, 0, 1, 1, 1, 0, 1, 1, 1, 1, 0, 0, 1, 1, 1, 0, 1, 0, 1, 1, 0, 1, 1, 1, 1, 0, 0, 1, 0, 1, 1, 1, 1, 0, 1, 0, 0, 1, 0, 1, 0, 0, 1, 0, 0, 0, 1, 1, 1, 0, 0, 1, 0, 0, 1, 0, 0, 0, 0, 0, 0, 1, 0, 1, 1, 1, 1, 0, 0, 1, 1, 0, 1, 1, 0, 1, 0, 0, 0, 0, 0, 0, 1, 1, 1, 0, 0, 1, 1, 1, 1, 0, 1, 1, 1, 0, 1, 1, 0, 1, 1, 0, 0, 0, 1, 1, 0, 0, 1, 1, 1, 0, 0, 0, 0, 1, 0, 0, 0, 1, 0, 1, 1, 0, 0, 0, 0, 1, 0, 0, 1, 0, 0, 1, 1, 0, 0, 1, 1, 0, 1, 0, 1, 0, 0, 1, 0, 0, 1, 0, 1, 0, 1, 0, 0, 0, 0, 1, 0, 1, 0, 1, 0, 0, 1, 1, 0, 1, 1, 1, 1, 0, 1, 0, 0, 1, 1, 0, 1, 1, 1, 1, 1, 1, 0, 1, 0, 0, 0, 1, 1, 1, 0, 0, 1, 1, 1, 1, 1, 1, 1, 0, 1, 1, 0, 1, 1, 0, 1, 0, 0, 1, 0, 1, 1, 0, 0, 1, 1, 1, 1, 0, 0, 1, 1, 0, 1, 0, 0, 0, 1, 1, 1, 0, 0, 0, 1, 1, 1, 1, 1, 1, 1, 0, 0, 1, 1, 1, 0, 0, 1, 0, 0, 1, 1, 0, 0, 0, 1, 0, 1, 1, 1, 1, 0, 0, 0, 0, 1, 1, 1, 1, 1, 0, 1, 0, 1, 0, 1, 0, 0, 1, 1, 0, 1, 1, 1, 1, 1, 1, 1, 0, 1, 1, 1, 0, 0, 1, 1, 0, 1) 0.32492000000000004\n",
      "6649 1037\n"
     ]
    }
   ],
   "source": [
    "best_genome, best_fitness, num_calls, generations = run_genetic_algo(\n",
    "    x=5,\n",
    "    population_size=population_size,\n",
    "    genome_length=genome_length,\n",
    "    mutation_rate=mutation_rate,\n",
    "    desired_fitness=desired_fitness,\n",
    "    max_stagnant_generations=max_stagnant_generations,\n",
    "    convergence_threshold=convergence_threshold,\n",
    ")\n",
    "print(best_genome, best_fitness)\n",
    "print(num_calls, generations)"
   ]
  }
 ],
 "metadata": {
  "kernelspec": {
   "display_name": "ci-fLJ3OwGs-py3.12",
   "language": "python",
   "name": "python3"
  },
  "language_info": {
   "codemirror_mode": {
    "name": "ipython",
    "version": 3
   },
   "file_extension": ".py",
   "mimetype": "text/x-python",
   "name": "python",
   "nbconvert_exporter": "python",
   "pygments_lexer": "ipython3",
   "version": "3.10.7"
  }
 },
 "nbformat": 4,
 "nbformat_minor": 2
}
