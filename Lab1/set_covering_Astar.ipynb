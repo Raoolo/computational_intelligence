{
 "cells": [
  {
   "cell_type": "code",
   "execution_count": 1,
   "metadata": {},
   "outputs": [],
   "source": [
    "from random import random\n",
    "from functools import reduce\n",
    "from collections import namedtuple\n",
    "from queue import PriorityQueue, SimpleQueue, LifoQueue\n",
    "\n",
    "import numpy as np"
   ]
  },
  {
   "cell_type": "code",
   "execution_count": 2,
   "metadata": {},
   "outputs": [],
   "source": [
    "PROBLEM_SIZE = 5        #number of elements in the set\n",
    "NUM_SETS = 10       #number of sets\n",
    "SETS = tuple(\n",
    "    np.array([random() < 0.3 for _ in range(PROBLEM_SIZE)])\n",
    "    for _ in range(NUM_SETS)\n",
    ")   # creates tuple of num_sets np.array where each contains problem_size elements with 30% prob of being true\n",
    "State = namedtuple('State', ['taken', 'not_taken']) \n",
    "# each state is defined by the taken sets and the not-taken sets, can be accessed similarly to a dict\n",
    "# note that it saves the index of the subset taken and not the actual subset"
   ]
  },
  {
   "cell_type": "code",
   "execution_count": 3,
   "metadata": {},
   "outputs": [],
   "source": [
    "# chekes if I actually took all the sets with an or executed between all taken sets for that particular state\n",
    "def goal_check(state):\n",
    "    return np.all(reduce(\n",
    "        np.logical_or,\n",
    "        [SETS[i] for i in state.taken],\n",
    "        np.array([False for _ in range(PROBLEM_SIZE)]),\n",
    "    ))\n",
    "# starts with an array of False (the inial)\n",
    "# [SETS[i] for i in state.taken] creates a list of lists (the taken subsets)\n",
    "# applies `or` to each of element of the first subset and to the initial\n",
    "# then it applies the or to each elements of the second subset and the new initial\n",
    "# goes on like this, if everything inside initial is now True\n",
    "# then np.all returns True and we have a valid solution\n",
    "\n",
    "#checks how many elements are missing from the state to the final solution (all True)\n",
    "def distance(state):\n",
    "    return PROBLEM_SIZE - sum(\n",
    "        reduce(\n",
    "            np.logical_or,\n",
    "            [SETS[i] for i in state.taken],     # state saves only the number of the taken subset\n",
    "            np.array([False for _ in range(PROBLEM_SIZE)]),\n",
    "        ))\n",
    "# creates a list of lists (subsets) that are in state.taken\n",
    "# the reduce works in the same way of the previous method \n",
    "# so it returns an array of true and false \n",
    "# sum then treats Trues as 1s, so it counts the elements actually taken\n",
    "# and the subtraction then returns how many elements are missing\n",
    "\n",
    "def f(state):\n",
    "    # the cost function is defined as g(n) being how many sets we have taken up to now\n",
    "    # and h(n) being the estimated distance from now to the goal state\n",
    "    return len(state.taken) + distance(state)\n"
   ]
  },
  {
   "cell_type": "code",
   "execution_count": 4,
   "metadata": {},
   "outputs": [],
   "source": [
    "# assert checks if an expression returns True followed by a message in case of False\n",
    "# the expression in this case is the goal_check function and the state that it\n",
    "# takes as input is where all the sets are taken, verifying if the currents\n",
    "# subsets permit the program to be solvable, otherwise the program will be stopped\n",
    "assert goal_check(\n",
    "    State(set(range(NUM_SETS)), set())\n",
    "), \"Problem not solvable\""
   ]
  },
  {
   "cell_type": "code",
   "execution_count": 1,
   "metadata": {},
   "outputs": [
    {
     "ename": "NameError",
     "evalue": "name 'PriorityQueue' is not defined",
     "output_type": "error",
     "traceback": [
      "\u001b[1;31m---------------------------------------------------------------------------\u001b[0m",
      "\u001b[1;31mNameError\u001b[0m                                 Traceback (most recent call last)",
      "\u001b[1;32mc:\\Users\\gatto\\Desktop\\Universita\\Computational Intelligence\\Projects\\Computational intelligence\\set_covering_Astar.ipynb Cell 5\u001b[0m line \u001b[0;36m1\n\u001b[1;32m----> <a href='vscode-notebook-cell:/c%3A/Users/gatto/Desktop/Universita/Computational%20Intelligence/Projects/Computational%20intelligence/set_covering_Astar.ipynb#W4sZmlsZQ%3D%3D?line=0'>1</a>\u001b[0m frontier \u001b[39m=\u001b[39m PriorityQueue()  \u001b[39m# set of all states that have been reached but not explored yet\u001b[39;00m\n\u001b[0;32m      <a href='vscode-notebook-cell:/c%3A/Users/gatto/Desktop/Universita/Computational%20Intelligence/Projects/Computational%20intelligence/set_covering_Astar.ipynb#W4sZmlsZQ%3D%3D?line=1'>2</a>\u001b[0m                             \u001b[39m# note that lower numbers equal higher priority\u001b[39;00m\n\u001b[0;32m      <a href='vscode-notebook-cell:/c%3A/Users/gatto/Desktop/Universita/Computational%20Intelligence/Projects/Computational%20intelligence/set_covering_Astar.ipynb#W4sZmlsZQ%3D%3D?line=2'>3</a>\u001b[0m                             \u001b[39m# in this case states with lower cost will be analyzed first\u001b[39;00m\n\u001b[0;32m      <a href='vscode-notebook-cell:/c%3A/Users/gatto/Desktop/Universita/Computational%20Intelligence/Projects/Computational%20intelligence/set_covering_Astar.ipynb#W4sZmlsZQ%3D%3D?line=3'>4</a>\u001b[0m                             \u001b[39m# (priority = current cost = numb of sets, content = state)\u001b[39;00m\n\u001b[0;32m      <a href='vscode-notebook-cell:/c%3A/Users/gatto/Desktop/Universita/Computational%20Intelligence/Projects/Computational%20intelligence/set_covering_Astar.ipynb#W4sZmlsZQ%3D%3D?line=4'>5</a>\u001b[0m state \u001b[39m=\u001b[39m State(\u001b[39mset\u001b[39m(), \u001b[39mset\u001b[39m(\u001b[39mrange\u001b[39m(NUM_SETS)))  \u001b[39m# initialize state and sets taken as empty, while not_taken all subsets\u001b[39;00m\n",
      "\u001b[1;31mNameError\u001b[0m: name 'PriorityQueue' is not defined"
     ]
    }
   ],
   "source": [
    "frontier = PriorityQueue()  # set of all states that have been reached but not explored yet\n",
    "                            # note that lower numbers equal higher priority\n",
    "                            # in this case states with lower cost will be analyzed first\n",
    "                            # (priority = current cost = numb of sets, content = state)\n",
    "state = State(set(), set(range(NUM_SETS)))  # initialize state and sets taken as empty, while not_taken all subsets\n",
    "frontier.put((f(state), state))  # adds the initial state to the frontier, using the f function previously defned\n",
    "# note that h(n) depends on how many are missing, so we start from PROBLEM_SIZE as first key\n",
    "\n",
    "counter = 0\n",
    "_, current_state = frontier.get()\n",
    "while not goal_check(current_state):\n",
    "    counter += 1\n",
    "    for action in current_state.not_taken:\n",
    "        new_state = State(\n",
    "            current_state.taken ^ {action},\n",
    "            current_state.not_taken ^ {action},\n",
    "        )\n",
    "        frontier.put((distance(new_state), new_state))\n",
    "    _, current_state = frontier.get()\n",
    "\n",
    "print(\n",
    "    f\"Solved in {counter:,} steps ({len(current_state.taken)} tiles)\"\n",
    ")"
   ]
  }
 ],
 "metadata": {
  "kernelspec": {
   "display_name": ".venv",
   "language": "python",
   "name": "python3"
  },
  "language_info": {
   "codemirror_mode": {
    "name": "ipython",
    "version": 3
   },
   "file_extension": ".py",
   "mimetype": "text/x-python",
   "name": "python",
   "nbconvert_exporter": "python",
   "pygments_lexer": "ipython3",
   "version": "3.12.0"
  }
 },
 "nbformat": 4,
 "nbformat_minor": 2
}
