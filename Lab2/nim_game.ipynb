{
 "cells": [
  {
   "cell_type": "code",
   "execution_count": 129,
   "metadata": {},
   "outputs": [],
   "source": [
    "#Exploiting ES to solve the nim-game problem\n",
    "#Among the different rules (strategies) that can be used, it is known that the optimal one will lead to the victory. \n",
    "#The idea is to assign a probability to each rule and then after a random extraction\n",
    "#decide which one must be used.\n",
    "#We expect that at the end the optimal one will achieve a probability of 1 to be used.\n",
    "\n",
    "#STRATEGIES\n",
    "#pure random\n",
    "#gabriele\n",
    "#donato\n",
    "#optimal (nim-sum based)\n",
    "#starting solution --> 0.25 probability to use each rule"
   ]
  },
  {
   "cell_type": "code",
   "execution_count": 130,
   "metadata": {},
   "outputs": [],
   "source": [
    "from pprint import pprint, pformat\n",
    "from collections import namedtuple\n",
    "from copy import deepcopy\n",
    "from tqdm.notebook import tqdm\n",
    "import matplotlib.pyplot as plt\n",
    "import numpy as np\n",
    "import random\n",
    "import copy\n",
    "import logging"
   ]
  },
  {
   "cell_type": "code",
   "execution_count": 131,
   "metadata": {},
   "outputs": [
    {
     "data": {
      "text/plain": [
       "\"starting_solution = {\\n    'pure_random': 0.25,\\n    'gabriele': 0.25,\\n    'raul': 0.25,\\n    'optimal': 0.25\\n}\""
      ]
     },
     "execution_count": 131,
     "metadata": {},
     "output_type": "execute_result"
    }
   ],
   "source": [
    "'''starting_solution = {\n",
    "    'pure_random': 0.25,\n",
    "    'gabriele': 0.25,\n",
    "    'raul': 0.25,\n",
    "    'optimal': 0.25\n",
    "}'''"
   ]
  },
  {
   "cell_type": "markdown",
   "metadata": {},
   "source": [
    "The game is based on the class Nim which saves the state of the current game"
   ]
  },
  {
   "cell_type": "code",
   "execution_count": 132,
   "metadata": {},
   "outputs": [],
   "source": [
    "Nimply = namedtuple(\"Nimply\", \"row, num_objects\")\n",
    "\n",
    "class Nim:\n",
    "    def __init__(self, num_rows: int, k: int = None) -> None:\n",
    "        self._rows = [i * 2 + 1 for i in range(num_rows)]   # list of the rows' content start with odd numbers\n",
    "        self._k = k     # if k is none then no limit on picks\n",
    "\n",
    "    def __bool__(self):\n",
    "        return sum(self._rows) > 0  # if any row still has anything left, return true\n",
    "\n",
    "    def __str__(self):\n",
    "        return \"<\" + \" \".join(str(_) for _ in self._rows) + \">\"     # D\n",
    "\n",
    "    @property\n",
    "    def rows(self) -> tuple:    # property getter,  you call .rows not .rows()\n",
    "        return tuple(self._rows)    # returns a TUPLE with number of objects for each row \n",
    "\n",
    "    def nimming(self, ply: Nimply) -> None:     # represent making a move in the game, the paramter is the tuple (row, numbOfObj)\n",
    "        row, num_objects = ply      \n",
    "        assert self._rows[row] >= num_objects       # there are enough objects in the specified row to remove \n",
    "        assert self._k is None or num_objects <= self._k    # the numb of obj to remove does not exceed k \n",
    "        self._rows[row] -= num_objects  \n"
   ]
  },
  {
   "cell_type": "markdown",
   "metadata": {},
   "source": [
    "#### How we can make a move (ply)"
   ]
  },
  {
   "cell_type": "code",
   "execution_count": 133,
   "metadata": {},
   "outputs": [],
   "source": [
    "## To make a move (Nimply) we define many possible functions\n",
    "def pure_random(state: Nim) -> Nimply:\n",
    "    \"\"\"A completely random move\"\"\"\n",
    "    row = random.choice([r for r, c in enumerate(state.rows) if c > 0])     # select a random row if it has more than 0 obj\n",
    "    num_objects = random.randint(1, state.rows[row])    # select a random number of obj to remove from the row (both extremes included btw)\n",
    "    return Nimply(row, num_objects)\n",
    "\n",
    "def gabriele(state: Nim) -> Nimply: \n",
    "    \"\"\"Pick always the maximum possible number of the lowest row\"\"\"\n",
    "    possible_moves = [(r, o) for r, c in enumerate(state.rows) for o in range(1, c + 1)]\n",
    "    # first generates a list of all possible moves (r, o) where o ranges from 1 to all the obj in that row\n",
    "    return Nimply(*max(possible_moves, key=lambda m: (-m[0], m[1])))\n",
    "    # sorts the moves by ascending row index and descending numb of objects and picks the max\n",
    "    # the * is used to unpack the result of the max, which in this case returns a tuple of row, numObj\n",
    "    # and then it is passed as a sequence of arguments to Nimply constructor\n",
    "\n",
    "def raul(state: Nim) -> Nimply:\n",
    "    \"\"\"Select the row with the maximum number of objects and removes one object. Used to stall the game.\"\"\"\n",
    "    max_row_index = max(enumerate(state.rows), key=lambda x: x[1])[0]       # find the index of the row with the maximum numOfObj\n",
    "    num_obj_to_remove = 1\n",
    "    return Nimply(max_row_index, num_obj_to_remove)\n",
    "\n",
    "def nim_sum(state: Nim) -> int: # calculates a binary XOR of all the heaps' sizes represented in binary\n",
    "    # when the nim-sum is 0 the player can force a win\n",
    "    tmp = np.array([tuple(int(x) for x in f\"{c:032b}\") for c in state.rows])   # converts each c in binary then as a set of tuples of integers\n",
    "    xor = tmp.sum(axis=0) % 2   # ???\n",
    "    return int(\"\".join(str(_) for _ in xor), base=2)    # profit\n",
    "\n",
    "def analize(raw: Nim) -> dict:  \n",
    "    '''Analyze all possible moves from the current game state and calculate nim-sum'''\n",
    "    cooked = dict()\n",
    "    cooked[\"possible_moves\"] = dict()   # creates a dictionary inside the dictionary\n",
    "                # selects all possible moves (ply)\n",
    "    for ply in (Nimply(r, o) for r, c in enumerate(raw.rows) for o in range(1, c + 1)):\n",
    "        # note that if the row is empty (c = 0), range will not produce anything beucase start=stop and stop is not included!\n",
    "        tmp = deepcopy(raw)\n",
    "        tmp.nimming(ply)    # applies the move to a copy of the state (raw)\n",
    "        cooked[\"possible_moves\"][ply] = nim_sum(tmp)    # computes nim-sum and associated and saves it in the dictionary\n",
    "    return cooked\n",
    "\n",
    "#nim-sum based solution \n",
    "def optimal(state: Nim) -> Nimply:\n",
    "    analysis = analize(state)   # analyzes the game state\n",
    "    logging.debug(f\"analysis:\\n{pformat(analysis)}\")\n",
    "    \n",
    "    # the following line selects all the previously computed possible moves and returns something like\n",
    "    # {(1, 1) : 2, (1, 2) : 1, ... } and saves only the ones with nimsum = 0\n",
    "    spicy_moves = [ply for ply, ns in analysis[\"possible_moves\"].items() if ns == 0]\n",
    "    \n",
    "    if not spicy_moves:     # if no spicy moves are available, fill it will all the possible moves\n",
    "        spicy_moves = list(analysis[\"possible_moves\"].keys())\n",
    "    \n",
    "    ply = random.choice(spicy_moves)    # then pick one randomly (REMEMBER PLY = NEXT MOVE)\n",
    "    \n",
    "    next_state = copy.deepcopy(state)   # copy the state to apply the moves and see the outcome\n",
    "    next_state.nimming(ply) # and apply the move\n",
    "    \n",
    "    # previous state\n",
    "    previous_state_almost_empty_rows = sum([obj == 1 for obj in state.rows])    # previous state number of rows with 1\n",
    "    \n",
    "    # current state:\n",
    "    rows_empty_or_almost = sum([obj <= 1 for obj in next_state.rows])   # count the rows that have only 1s and 0s left\n",
    "    rows_almost_empty = sum([obj == 1 for obj in next_state.rows])  # count the rows that have only 1s left\n",
    "    \n",
    "    # if all rows have 0 or 1 AND the number of almost empty is even AND there are still rows in game \n",
    "    if rows_empty_or_almost == len(next_state.rows) and rows_almost_empty % 2 == 0 and sum(state.rows) > 1:\n",
    "        row, num_obj = ply\n",
    "       \n",
    "        if previous_state_almost_empty_rows % 2 == 0:  # if previous state had even number of 1s\n",
    "            if num_obj > 1: # check not to remove all the objects from the row\n",
    "                ply = Nimply(row, num_obj - 1)  # next move is taking less than previously from the same row\n",
    "        else:   # if previous state had odd number of 1s\n",
    "            if num_obj < state.rows[row]:   # check if move is in the bounds of objects of the row\n",
    "                ply = Nimply(row, num_obj + 1)  # next move is taking more than previously from the same row\n",
    "\n",
    "    return ply"
   ]
  },
  {
   "cell_type": "markdown",
   "metadata": {},
   "source": [
    "# MATCH"
   ]
  },
  {
   "cell_type": "code",
   "execution_count": 134,
   "metadata": {},
   "outputs": [],
   "source": [
    "def normalize(strategies: dict):\n",
    "    \"\"\"Needed to normalize the values of the dictionary so that they sum to one.\"\"\"\n",
    "    total = 0\n",
    "\n",
    "    for v in strategies.values():\n",
    "        total += v\n",
    "\n",
    "    for k, v in strategies.items():\n",
    "        # this is the actual normalization\n",
    "        strategies[k] = v / total\n",
    "\n",
    "    return strategies\n",
    "\n",
    "\n",
    "def select_strategy(strategies):\n",
    "    '''Select a strategy depending on the weights. Returns the index of the selected strategy.'''\n",
    "    num = random.uniform(0, 1)\n",
    "    cumulative_value = 0\n",
    "\n",
    "    # for strat, prob in strategies.items():\n",
    "    #     cumulative_value += prob\n",
    "    #     if num < cumulative_value:\n",
    "    #         return strat\n",
    "        \n",
    "    for ind, prob in enumerate(strategies):\n",
    "        cumulative_value += prob\n",
    "        if num < cumulative_value:\n",
    "            return ind\n",
    "    \n",
    "\n",
    "\n",
    "# print(select_strategy(strategies))\n",
    "# logging.getLogger().setLevel(logging.INFO)"
   ]
  },
  {
   "cell_type": "code",
   "execution_count": 135,
   "metadata": {},
   "outputs": [],
   "source": [
    "def eval(strategies):\n",
    "    successes = 0\n",
    "    num_iter = 50\n",
    "    player1_prob = [0.2, 0.2, 0.2, 0.4]\n",
    "    player1_strat_index = 0\n",
    "    \n",
    "    for _ in range(num_iter):\n",
    "        nim = Nim(5)   # initialize new game with 7 rows\n",
    "        # print(f\"RUN: {_}\")\n",
    "        # logging.info(f\"init : {nim}\")   # automatically calls the str\n",
    "        player = 0  # starting player is assumed to be 0, remember that the starting player is disadvantaged\n",
    "        if player == 1:\n",
    "            player1_strat_index = select_strategy(player1_prob)\n",
    "            \n",
    "        while nim:  # calls the bool\n",
    "            # both player know all the possible strategies\n",
    "            if player == 0: \n",
    "                strategy = select_strategy(strategies) \n",
    "                #print(f\"Using the strategy: {strategy}\")\n",
    "                if strategy == 0:\n",
    "                    ply = pure_random(nim)\n",
    "                elif strategy == 1:\n",
    "                    ply = gabriele(nim)\n",
    "                elif strategy == 2:\n",
    "                    ply = raul(nim)\n",
    "                elif strategy == 3:\n",
    "                    ply = optimal(nim)\n",
    "            else:\n",
    "                if player1_strat_index == 0:\n",
    "                    ply = pure_random(nim)\n",
    "                elif player1_strat_index == 1:\n",
    "                  ply = gabriele(nim)\n",
    "                elif player1_strat_index == 2:\n",
    "                    ply = raul(nim)\n",
    "                elif player1_strat_index == 3:\n",
    "                    ply = optimal(nim)\n",
    "            \n",
    "            nim.nimming(ply)    # apply the move\n",
    "            \n",
    "            # logging.info(f\"Player {player} picks {ply}\")   \n",
    "            # logging.info(f\"Status: {nim}\")  # string with rows and numb of objects remaining\n",
    "            \n",
    "            player = 1 - player\n",
    "            \n",
    "        # logging.info(f\"status: Player {player} won!\")\n",
    "        if player == 0:  # it means that I win\n",
    "            successes += 1\n",
    "            \n",
    "        # print(f\"Percentage of wins by player 0: {successes/num_iter}\")\n",
    "    return successes / num_iter"
   ]
  },
  {
   "cell_type": "code",
   "execution_count": 136,
   "metadata": {},
   "outputs": [
    {
     "data": {
      "application/vnd.jupyter.widget-view+json": {
       "model_id": "257664b6805142d0a8a587055b320cd5",
       "version_major": 2,
       "version_minor": 0
      },
      "text/plain": [
       "  0%|          | 0/100 [00:00<?, ?it/s]"
      ]
     },
     "metadata": {},
     "output_type": "display_data"
    },
    {
     "name": "stdout",
     "output_type": "stream",
     "text": [
      "Best solution: {'pure_random': 0.0, 'gabriele': 0.04061498365627013, 'raul': 0.0, 'optimal': 0.9593850163437299}\n"
     ]
    },
    {
     "data": {
      "image/png": "[encoded data removed]",
      "text/plain": [
       "<Figure size 1400x400 with 1 Axes>"
      ]
     },
     "metadata": {},
     "output_type": "display_data"
    }
   ],
   "source": [
    "λ = 10  # number of offspring\n",
    "σ = 0.1  # std dev initial value\n",
    "N_STRATEGIES = 4\n",
    "N_DIM = N_STRATEGIES\n",
    "\n",
    "# Initialize strategies with equal probabilities\n",
    "strategies = {\n",
    "    \"pure_random\": 0.25,\n",
    "    \"gabriele\": 0.25,\n",
    "    \"raul\": 0.25,\n",
    "    \"optimal\": 0.25\n",
    "}\n",
    "\n",
    "solution = np.array(\n",
    "    list(strategies.values())\n",
    ")  # convert strategies to an array for processing\n",
    "\n",
    "history = []\n",
    "best_so_far = solution.copy()\n",
    "best_fitness = eval(best_so_far)\n",
    "\n",
    "for step in tqdm(range(1000 // λ)):\n",
    "    offspring = (\n",
    "        np.random.normal(loc=0, scale=σ, size=(λ, N_DIM)) + solution\n",
    "    )  # creating new solutions with noise\n",
    "    offspring = np.clip(offspring, 0, 1)  # Ensuring probabilities stay within [0, 1]\n",
    "    offspring /= offspring.sum(axis=1)[:, np.newaxis]  # normalize offspring to sum to 1\n",
    "\n",
    "    # evaluate offspring and select the best one\n",
    "    fitness = np.array([eval(s) for s in offspring])\n",
    "    best_offspring = offspring[np.argmax(fitness)]\n",
    "    best_offspring_fitness = np.max(fitness)\n",
    "\n",
    "    # update the current solution if the offspring is better\n",
    "    if best_offspring_fitness > best_fitness:\n",
    "        best_so_far = best_offspring.copy()\n",
    "        best_fitness = best_offspring_fitness\n",
    "        solution = best_offspring  # Update the current solution to the new best\n",
    "        history.append((step, best_fitness))\n",
    "\n",
    "    # adapt sigma based on success rate\n",
    "    success_rate = np.mean(fitness > best_fitness)\n",
    "    if (step+1) % 25 == 0:\n",
    "        if success_rate < 1 / 5:\n",
    "            σ /= 1.1\n",
    "        elif success_rate > 1 / 5:\n",
    "            σ *= 1.1\n",
    "\n",
    "# Convert the best solution back to a dictionary\n",
    "best_strategy_probabilities = dict(zip(strategies.keys(), best_so_far))\n",
    "\n",
    "# Logging the best solution\n",
    "print(f\"Best solution: {best_strategy_probabilities}\")\n",
    "\n",
    "# Plotting the history of best solutions\n",
    "\n",
    "history = np.array(history)\n",
    "plt.figure(figsize=(14, 4))\n",
    "plt.plot(history[:, 0], history[:, 1], marker=\".\")\n",
    "plt.show()"
   ]
  }
 ],
 "metadata": {
  "kernelspec": {
   "display_name": "Python 3",
   "language": "python",
   "name": "python3"
  },
  "language_info": {
   "codemirror_mode": {
    "name": "ipython",
    "version": 3
   },
   "file_extension": ".py",
   "mimetype": "text/x-python",
   "name": "python",
   "nbconvert_exporter": "python",
   "pygments_lexer": "ipython3",
   "version": "3.10.7"
  }
 },
 "nbformat": 4,
 "nbformat_minor": 2
}
